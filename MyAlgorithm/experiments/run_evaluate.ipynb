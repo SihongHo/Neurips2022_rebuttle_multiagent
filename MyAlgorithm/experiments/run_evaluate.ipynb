{
 "cells": [
  {
   "cell_type": "code",
   "execution_count": 3,
   "metadata": {},
   "outputs": [],
   "source": [
    "import sys\n",
    "import os\n",
    "import copy\n",
    "import json\n",
    "import time\n",
    "import argparse\n",
    "from grpc import server"
   ]
  },
  {
   "cell_type": "code",
   "execution_count": 21,
   "metadata": {},
   "outputs": [],
   "source": [
    "\n",
    "def get_command(scenario_index = 8, exp_index = 0, cuda_index = 1, alg = \"ma\", server_name = \"FeiML\", noise_type = \"Optimal\"):\n",
    "    scenario_list = [\"simple\",\"simple_reference\", \"simple_speaker_listener\", \"simple_spread\",\n",
    "                        \"simple_adversary\", \"simple_crypto\", \"simple_push\",\n",
    "                        \"simple_tag\", \"simple_world_comm\"]\n",
    "    exp_name_list = [\"e0\" + str(i) for i in range(1,10,1)] + [\"e\" + str(i) for i in range(10,21,1)]\n",
    "    model_name = alg + \"_s\" + str(scenario_index) + \"_\" + str(exp_name_list[exp_index])\n",
    "    exp_name = \"eva_\" + model_name + \"_\" + noise_type\n",
    "    exp_path = \" > results/s\" + str(scenario_index) + \"/\" + exp_name + \".out 2> results/s\" \\\n",
    "                    + str(scenario_index) + \"/\" + exp_name + \".err &\"\n",
    "\n",
    "    opt1 = dict()\n",
    "    opt1['server-name'] = server_name\n",
    "    opt1['scenario'] = scenario_list[scenario_index]\n",
    "    opt1['save-dir'] = \"models/s\" + str(scenario_index) + \"/\" + model_name + \"/\"\n",
    "    opt1['benchmark'] = ''\n",
    "    opt1['perturb'] = noise_type\n",
    "    opt2 = dict()\n",
    "    opt2['exp-name'] = exp_name + exp_path\n",
    "\n",
    "    def generate_command(opt1, opt2, cuda_index):\n",
    "        cmd = 'CUDA_VISIBLE_DEVICES=' + str(cuda_index) + ' nohup python evaluate.py'\n",
    "        for opt, val in opt1.items():\n",
    "            cmd += ' --' + opt + ' ' + str(val)\n",
    "        for opt, val in opt2.items():\n",
    "            cmd += ' --' + opt + ' ' + str(val)\n",
    "        return cmd\n",
    "    \n",
    "    return generate_command(opt1, opt2, cuda_index)\n",
    "\n",
    "def parse_args():\n",
    "    parser = argparse.ArgumentParser(\"Reinforcement Learning Experiments Excution\")\n",
    "    parser.add_argument(\"--server-name\", type=str, default=\"FeiML\", help=\"FeiML, FeiNewML, Miao_Exxact\")\n",
    "    parser.add_argument(\"--exp-index\", type=int, default=0, help=\"FeiML, FeiNewML, Miao_Exxact = 1 2 3\")\n",
    "    return parser.parse_args()\n",
    "\n",
    "def run(scenario_index, exp_index, server_name, noise_type):\n",
    "    opt = get_command(scenario_index = scenario_index, exp_index = exp_index, cuda_index = 1, alg = \"ma\", server_name = server_name, noise_type = noise_type)\n",
    "    conda_command = \"conda activate hsh_maddpg\"\n",
    "    # print(conda_command)\n",
    "    print(opt)\n",
    "    # os.system(conda_command)\n",
    "    # os.system(opt)\n",
    "    print(\"------------------------sleep------------------------\")\n",
    "    # time.sleep(300) # sleep for 5min"
   ]
  },
  {
   "cell_type": "code",
   "execution_count": 22,
   "metadata": {},
   "outputs": [
    {
     "name": "stdout",
     "output_type": "stream",
     "text": [
      "CUDA_VISIBLE_DEVICES=1 nohup python evaluate.py --server-name server --scenario simple_reference --save-dir models/s1/ma_s1_e01/ --benchmark  --perturb No --exp-name eva_ma_s1_e01_No > results/s1/eva_ma_s1_e01_No.out 2> results/s1/eva_ma_s1_e01_No.err &\n",
      "------------------------sleep------------------------\n",
      "CUDA_VISIBLE_DEVICES=1 nohup python evaluate.py --server-name server --scenario simple_speaker_listener --save-dir models/s2/ma_s2_e01/ --benchmark  --perturb No --exp-name eva_ma_s2_e01_No > results/s2/eva_ma_s2_e01_No.out 2> results/s2/eva_ma_s2_e01_No.err &\n",
      "------------------------sleep------------------------\n",
      "CUDA_VISIBLE_DEVICES=1 nohup python evaluate.py --server-name server --scenario simple_spread --save-dir models/s3/ma_s3_e01/ --benchmark  --perturb No --exp-name eva_ma_s3_e01_No > results/s3/eva_ma_s3_e01_No.out 2> results/s3/eva_ma_s3_e01_No.err &\n",
      "------------------------sleep------------------------\n",
      "CUDA_VISIBLE_DEVICES=1 nohup python evaluate.py --server-name server --scenario simple_adversary --save-dir models/s4/ma_s4_e01/ --benchmark  --perturb No --exp-name eva_ma_s4_e01_No > results/s4/eva_ma_s4_e01_No.out 2> results/s4/eva_ma_s4_e01_No.err &\n",
      "------------------------sleep------------------------\n",
      "CUDA_VISIBLE_DEVICES=1 nohup python evaluate.py --server-name server --scenario simple_crypto --save-dir models/s5/ma_s5_e01/ --benchmark  --perturb No --exp-name eva_ma_s5_e01_No > results/s5/eva_ma_s5_e01_No.out 2> results/s5/eva_ma_s5_e01_No.err &\n",
      "------------------------sleep------------------------\n",
      "CUDA_VISIBLE_DEVICES=1 nohup python evaluate.py --server-name server --scenario simple_push --save-dir models/s6/ma_s6_e01/ --benchmark  --perturb No --exp-name eva_ma_s6_e01_No > results/s6/eva_ma_s6_e01_No.out 2> results/s6/eva_ma_s6_e01_No.err &\n",
      "------------------------sleep------------------------\n",
      "CUDA_VISIBLE_DEVICES=1 nohup python evaluate.py --server-name server --scenario simple_tag --save-dir models/s7/ma_s7_e01/ --benchmark  --perturb No --exp-name eva_ma_s7_e01_No > results/s7/eva_ma_s7_e01_No.out 2> results/s7/eva_ma_s7_e01_No.err &\n",
      "------------------------sleep------------------------\n",
      "CUDA_VISIBLE_DEVICES=1 nohup python evaluate.py --server-name server --scenario simple_reference --save-dir models/s1/ma_s1_e01/ --benchmark  --perturb Optimal --exp-name eva_ma_s1_e01_Optimal > results/s1/eva_ma_s1_e01_Optimal.out 2> results/s1/eva_ma_s1_e01_Optimal.err &\n",
      "------------------------sleep------------------------\n",
      "CUDA_VISIBLE_DEVICES=1 nohup python evaluate.py --server-name server --scenario simple_speaker_listener --save-dir models/s2/ma_s2_e01/ --benchmark  --perturb Optimal --exp-name eva_ma_s2_e01_Optimal > results/s2/eva_ma_s2_e01_Optimal.out 2> results/s2/eva_ma_s2_e01_Optimal.err &\n",
      "------------------------sleep------------------------\n",
      "CUDA_VISIBLE_DEVICES=1 nohup python evaluate.py --server-name server --scenario simple_spread --save-dir models/s3/ma_s3_e01/ --benchmark  --perturb Optimal --exp-name eva_ma_s3_e01_Optimal > results/s3/eva_ma_s3_e01_Optimal.out 2> results/s3/eva_ma_s3_e01_Optimal.err &\n",
      "------------------------sleep------------------------\n",
      "CUDA_VISIBLE_DEVICES=1 nohup python evaluate.py --server-name server --scenario simple_adversary --save-dir models/s4/ma_s4_e01/ --benchmark  --perturb Optimal --exp-name eva_ma_s4_e01_Optimal > results/s4/eva_ma_s4_e01_Optimal.out 2> results/s4/eva_ma_s4_e01_Optimal.err &\n",
      "------------------------sleep------------------------\n",
      "CUDA_VISIBLE_DEVICES=1 nohup python evaluate.py --server-name server --scenario simple_crypto --save-dir models/s5/ma_s5_e01/ --benchmark  --perturb Optimal --exp-name eva_ma_s5_e01_Optimal > results/s5/eva_ma_s5_e01_Optimal.out 2> results/s5/eva_ma_s5_e01_Optimal.err &\n",
      "------------------------sleep------------------------\n",
      "CUDA_VISIBLE_DEVICES=1 nohup python evaluate.py --server-name server --scenario simple_push --save-dir models/s6/ma_s6_e01/ --benchmark  --perturb Optimal --exp-name eva_ma_s6_e01_Optimal > results/s6/eva_ma_s6_e01_Optimal.out 2> results/s6/eva_ma_s6_e01_Optimal.err &\n",
      "------------------------sleep------------------------\n",
      "CUDA_VISIBLE_DEVICES=1 nohup python evaluate.py --server-name server --scenario simple_tag --save-dir models/s7/ma_s7_e01/ --benchmark  --perturb Optimal --exp-name eva_ma_s7_e01_Optimal > results/s7/eva_ma_s7_e01_Optimal.out 2> results/s7/eva_ma_s7_e01_Optimal.err &\n",
      "------------------------sleep------------------------\n",
      "CUDA_VISIBLE_DEVICES=1 nohup python evaluate.py --server-name server --scenario simple_reference --save-dir models/s1/ma_s1_e01/ --benchmark  --perturb Random --exp-name eva_ma_s1_e01_Random > results/s1/eva_ma_s1_e01_Random.out 2> results/s1/eva_ma_s1_e01_Random.err &\n",
      "------------------------sleep------------------------\n",
      "CUDA_VISIBLE_DEVICES=1 nohup python evaluate.py --server-name server --scenario simple_speaker_listener --save-dir models/s2/ma_s2_e01/ --benchmark  --perturb Random --exp-name eva_ma_s2_e01_Random > results/s2/eva_ma_s2_e01_Random.out 2> results/s2/eva_ma_s2_e01_Random.err &\n",
      "------------------------sleep------------------------\n",
      "CUDA_VISIBLE_DEVICES=1 nohup python evaluate.py --server-name server --scenario simple_spread --save-dir models/s3/ma_s3_e01/ --benchmark  --perturb Random --exp-name eva_ma_s3_e01_Random > results/s3/eva_ma_s3_e01_Random.out 2> results/s3/eva_ma_s3_e01_Random.err &\n",
      "------------------------sleep------------------------\n",
      "CUDA_VISIBLE_DEVICES=1 nohup python evaluate.py --server-name server --scenario simple_adversary --save-dir models/s4/ma_s4_e01/ --benchmark  --perturb Random --exp-name eva_ma_s4_e01_Random > results/s4/eva_ma_s4_e01_Random.out 2> results/s4/eva_ma_s4_e01_Random.err &\n",
      "------------------------sleep------------------------\n",
      "CUDA_VISIBLE_DEVICES=1 nohup python evaluate.py --server-name server --scenario simple_crypto --save-dir models/s5/ma_s5_e01/ --benchmark  --perturb Random --exp-name eva_ma_s5_e01_Random > results/s5/eva_ma_s5_e01_Random.out 2> results/s5/eva_ma_s5_e01_Random.err &\n",
      "------------------------sleep------------------------\n",
      "CUDA_VISIBLE_DEVICES=1 nohup python evaluate.py --server-name server --scenario simple_push --save-dir models/s6/ma_s6_e01/ --benchmark  --perturb Random --exp-name eva_ma_s6_e01_Random > results/s6/eva_ma_s6_e01_Random.out 2> results/s6/eva_ma_s6_e01_Random.err &\n",
      "------------------------sleep------------------------\n",
      "CUDA_VISIBLE_DEVICES=1 nohup python evaluate.py --server-name server --scenario simple_tag --save-dir models/s7/ma_s7_e01/ --benchmark  --perturb Random --exp-name eva_ma_s7_e01_Random > results/s7/eva_ma_s7_e01_Random.out 2> results/s7/eva_ma_s7_e01_Random.err &\n",
      "------------------------sleep------------------------\n"
     ]
    }
   ],
   "source": [
    "# python evaluate.py --scenario simple_reference --save-dir models/s1/ma_s1_e12/ --exp-name ma_s1_e12 --benchmark\n",
    "for i in range(1,8):\n",
    "    run(scenario_index = i, server_name = \"server\", exp_index = 0, noise_type = \"No\")\n",
    "for i in range(1,8):\n",
    "    run(scenario_index = i, server_name = \"server\", exp_index = 0, noise_type = \"Optimal\")\n",
    "for i in range(1,8):\n",
    "    run(scenario_index = i, server_name = \"server\", exp_index = 0, noise_type = \"Random\")"
   ]
  }
 ],
 "metadata": {
  "interpreter": {
   "hash": "c30f2af5f468e7f5b45bcc30fca5f4886c90d54777aed916ed5f6294dfb24bf2"
  },
  "kernelspec": {
   "display_name": "Python 3.9.7 ('base')",
   "language": "python",
   "name": "python3"
  },
  "language_info": {
   "codemirror_mode": {
    "name": "ipython",
    "version": 3
   },
   "file_extension": ".py",
   "mimetype": "text/x-python",
   "name": "python",
   "nbconvert_exporter": "python",
   "pygments_lexer": "ipython3",
   "version": "3.9.7"
  },
  "orig_nbformat": 4
 },
 "nbformat": 4,
 "nbformat_minor": 2
}
