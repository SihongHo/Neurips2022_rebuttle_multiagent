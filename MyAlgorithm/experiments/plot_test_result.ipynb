{
 "cells": [
  {
   "cell_type": "code",
   "execution_count": 1,
   "metadata": {},
   "outputs": [],
   "source": [
    "import numpy as np\n",
    "import os\n",
    "import pandas as pd\n",
    "import matplotlib.pyplot as plt\n",
    "import seaborn as sns\n",
    "import pickle"
   ]
  },
  {
   "cell_type": "code",
   "execution_count": 58,
   "metadata": {},
   "outputs": [
    {
     "name": "stdout",
     "output_type": "stream",
     "text": [
      "8\n"
     ]
    }
   ],
   "source": [
    "agent_num_list = [2, 2, 3, 3, 3, 2, 4, 4]\n",
    "print(len(agent_num_list))"
   ]
  },
  {
   "cell_type": "code",
   "execution_count": 84,
   "metadata": {},
   "outputs": [
    {
     "name": "stdout",
     "output_type": "stream",
     "text": [
      "4\n",
      "4001\n",
      "1\n",
      "24\n",
      "4\n",
      "[0, 0, 0, 0]\n"
     ]
    }
   ],
   "source": [
    "rewards = {}\n",
    "file_dic = './benchmark_files/ma_s7_e12.pkl'\n",
    "if os.path.getsize(file_dic) > 0:      \n",
    "        with open(file_dic, \"rb\") as f:\n",
    "            unpickler = pickle.Unpickler(f)\n",
    "            # if file is not empty scores will be equal\n",
    "            # to the value unpickled\n",
    "            rewards = unpickler.load()\n",
    "dim = len(rewards[0][0][0])\n",
    "print(dim)\n",
    "print(len(rewards))\n",
    "print(len(rewards[0]))\n",
    "print(len(rewards[0][0]))\n",
    "print(len(rewards[0][0][0]))\n",
    "print((rewards[0][0][0]))"
   ]
  },
  {
   "cell_type": "code",
   "execution_count": 86,
   "metadata": {},
   "outputs": [
    {
     "name": "stdout",
     "output_type": "stream",
     "text": [
      "[0, 0, 0, 0]\n"
     ]
    }
   ],
   "source": [
    "print((rewards[12][0][0]))"
   ]
  },
  {
   "cell_type": "code",
   "execution_count": 116,
   "metadata": {},
   "outputs": [
    {
     "name": "stdout",
     "output_type": "stream",
     "text": [
      "3\n",
      "4001\n",
      "1\n",
      "24\n",
      "3\n",
      "[(-1.9999999999826807, array([8.6595800e-12, 1.0000000e+00, 2.3723799e-26, 3.1526912e-26],\n",
      "      dtype=float32), array([1., 0., 0., 0.])), (1.7814560323031183, array([0.6638765 , 0.3247685 , 0.00927523, 0.00207982], dtype=float32), array([1., 0., 0., 0.])), (1.7814560323031183, array([9.9660999e-01, 3.2941648e-03, 9.5857740e-07, 9.4856063e-05],\n",
      "      dtype=float32), array([1., 0., 0., 0.]))]\n",
      "(-1.9999999999826807, array([8.6595800e-12, 1.0000000e+00, 2.3723799e-26, 3.1526912e-26],\n",
      "      dtype=float32), array([1., 0., 0., 0.]))\n"
     ]
    }
   ],
   "source": [
    "rewards = {}\n",
    "file_dic = './benchmark_files/ma_s5_e12_optimal.pkl'\n",
    "if os.path.getsize(file_dic) > 0:      \n",
    "        with open(file_dic, \"rb\") as f:\n",
    "            unpickler = pickle.Unpickler(f)\n",
    "            # if file is not empty scores will be equal\n",
    "            # to the value unpickled\n",
    "            rewards = unpickler.load()\n",
    "dim = len(rewards[0][0][0])\n",
    "print(dim)\n",
    "print(len(rewards))\n",
    "print(len(rewards[0]))\n",
    "print(len(rewards[0][0]))\n",
    "print(len(rewards[0][0][0]))\n",
    "print((rewards[0][0][0]))\n",
    "print((rewards[0][0][0][0]))"
   ]
  },
  {
   "cell_type": "code",
   "execution_count": 91,
   "metadata": {},
   "outputs": [
    {
     "name": "stdout",
     "output_type": "stream",
     "text": [
      "0\n"
     ]
    }
   ],
   "source": [
    "print((rewards[1021][0][0][1][0]))"
   ]
  },
  {
   "cell_type": "code",
   "execution_count": 125,
   "metadata": {},
   "outputs": [
    {
     "name": "stdout",
     "output_type": "stream",
     "text": [
      "optimal\n",
      "1\n",
      "mean---------------------\n",
      "-1.1971745770113915\n",
      "-1.0286410948262799\n",
      "var---------------------\n",
      "1.1424638259314759\n",
      "0.8629038743087339\n",
      "optimal\n",
      "2\n",
      "mean---------------------\n",
      "-0.8074947990930362\n",
      "-0.8074947990930362\n",
      "var---------------------\n",
      "0.5718005448710245\n",
      "0.5718005448710245\n",
      "optimal\n",
      "3\n",
      "mean---------------------\n",
      "-2.6962380706172855\n",
      "-2.6947684233326337\n",
      "-2.6911692871253234\n",
      "var---------------------\n",
      "0.3265721689259965\n",
      "0.325004730101308\n",
      "0.3222230926761081\n",
      "optimal\n",
      "4\n",
      "mean---------------------\n",
      "-0.8033239904502958\n",
      "0.22549331660791297\n",
      "0.22549331660791297\n",
      "var---------------------\n",
      "0.5888973652646365\n",
      "0.2243480637569116\n",
      "0.2243480637569116\n",
      "optimal\n",
      "5\n",
      "mean---------------------\n",
      "-0.8788681335141507\n",
      "0.06503911967114864\n",
      "0.06503911967114864\n",
      "var---------------------\n",
      "0.8171857321054685\n",
      "1.4670298346747372\n",
      "1.4670298346747372\n",
      "optimal\n",
      "6\n",
      "mean---------------------\n",
      "-0.07599910698368076\n",
      "-0.7577751123278444\n",
      "var---------------------\n",
      "0.2708549823444721\n",
      "0.16029607698245496\n",
      "optimal\n",
      "7\n",
      "mean---------------------\n",
      "0.16405062784931618\n",
      "0.16933935855394705\n",
      "0.16218107654163\n",
      "-0.20837373837968376\n",
      "var---------------------\n",
      "1.5928886392027968\n",
      "1.5964141600497208\n",
      "1.5916289948046638\n",
      "1.6486501593849876\n",
      "optimal\n",
      "8\n",
      "mean---------------------\n",
      "0.10646165509236413\n",
      "0.10152130510073393\n",
      "0.09123736707158592\n",
      "0.09737206549732656\n",
      "var---------------------\n",
      "0.6710695530703165\n",
      "0.668700239883746\n",
      "0.66565081339224\n",
      "0.6680761098983266\n"
     ]
    }
   ],
   "source": [
    "# noise_type = [\"No\", \"Optimal\", \"Random\"]\n",
    "noise_type = [\"optimal\", \"ramdom\"]\n",
    "for s in range(1,9):\n",
    "    for noise in noise_type:\n",
    "        file_dic = './benchmark_files/ma_s' + str(s) + '_e12_' + noise + '.pkl'\n",
    "        if os.path.getsize(file_dic) > 0:      \n",
    "            with open(file_dic, \"rb\") as f:\n",
    "                unpickler = pickle.Unpickler(f)\n",
    "                # if file is not empty scores will be equal\n",
    "                # to the value unpickled\n",
    "                rewards = unpickler.load()\n",
    "        print(noise)\n",
    "        print(s)\n",
    "        if agent_num_list[s-1]==2:\n",
    "            rew_sum1 = []\n",
    "            rew_sum2 = []\n",
    "            for i in rewards:\n",
    "                for j in i[0]:\n",
    "                    rew_sum1.append(j[0])\n",
    "                    rew_sum2.append(j[1])\n",
    "            print(\"mean---------------------\")\n",
    "            print(np.mean(rew_sum1))\n",
    "            print(np.mean(rew_sum2))\n",
    "            print(\"var---------------------\")\n",
    "            print(np.var(rew_sum1))\n",
    "            print(np.var(rew_sum2))\n",
    "        if agent_num_list[s-1]==4:\n",
    "            rew_sum1 = []\n",
    "            rew_sum2 = []\n",
    "            rew_sum3 = []\n",
    "            rew_sum4 = []\n",
    "            for i in rewards:\n",
    "                for j in i[0]:\n",
    "                    rew_sum1 += j[0]\n",
    "                    rew_sum2 += j[1]\n",
    "                    rew_sum3 += j[2]\n",
    "                    rew_sum4 += j[3]\n",
    "            print(\"mean---------------------\")\n",
    "            print(np.mean(rew_sum1))\n",
    "            print(np.mean(rew_sum2))\n",
    "            print(np.mean(rew_sum3))\n",
    "            print(np.mean(rew_sum4))\n",
    "            print(\"var---------------------\")\n",
    "            print(np.var(rew_sum1))\n",
    "            print(np.var(rew_sum2))\n",
    "            print(np.var(rew_sum3))\n",
    "            print(np.var(rew_sum4))\n",
    "        if agent_num_list[s-1]==3:\n",
    "            rew_sum1 = []\n",
    "            rew_sum2 = []\n",
    "            rew_sum3 = []\n",
    "            for i in rewards:\n",
    "                for j in i[0]:\n",
    "                    rew_sum1.append(j[0][0])\n",
    "                    rew_sum2.append(j[1][0])\n",
    "                    rew_sum3.append(j[2][0])\n",
    "            print(\"mean---------------------\")\n",
    "            print(np.mean(rew_sum1))\n",
    "            print(np.mean(rew_sum2))\n",
    "            print(np.mean(rew_sum3))\n",
    "            print(\"var---------------------\")\n",
    "            print(np.var(rew_sum1))\n",
    "            print(np.var(rew_sum2))\n",
    "            print(np.var(rew_sum3))"
   ]
  },
  {
   "cell_type": "code",
   "execution_count": 120,
   "metadata": {},
   "outputs": [
    {
     "data": {
      "text/plain": [
       "array([], dtype=float64)"
      ]
     },
     "execution_count": 120,
     "metadata": {},
     "output_type": "execute_result"
    }
   ],
   "source": [
    "rew_sum1"
   ]
  },
  {
   "cell_type": "code",
   "execution_count": 109,
   "metadata": {},
   "outputs": [
    {
     "data": {
      "text/plain": [
       "0"
      ]
     },
     "execution_count": 109,
     "metadata": {},
     "output_type": "execute_result"
    }
   ],
   "source": [
    "rewards[0][0][0][3][0]"
   ]
  },
  {
   "cell_type": "code",
   "execution_count": 19,
   "metadata": {},
   "outputs": [
    {
     "name": "stdout",
     "output_type": "stream",
     "text": [
      "100024\n",
      "-1.1971745770113986\n"
     ]
    }
   ],
   "source": [
    "t = 0\n",
    "rew_sum = 0\n",
    "for i in rewards:\n",
    "    for j in i[0]:\n",
    "        # print(j[0])\n",
    "        t += 1\n",
    "        rew_sum += j[0]\n",
    "print(t)\n",
    "print(rew_sum/t)"
   ]
  },
  {
   "cell_type": "code",
   "execution_count": 5,
   "metadata": {},
   "outputs": [
    {
     "name": "stdout",
     "output_type": "stream",
     "text": [
      "4001\n",
      "1\n",
      "24\n",
      "2\n"
     ]
    }
   ],
   "source": [
    "dim = len(rewards[0][0][0])\n",
    "print(dim)\n",
    "print(len(rewards))\n",
    "print(len(rewards[0]))\n",
    "print(len(rewards[0][0]))\n",
    "print(len(rewards[0][0][0]))\n",
    "# print(len(rewards[0][0][0][0]))"
   ]
  },
  {
   "cell_type": "code",
   "execution_count": 4,
   "metadata": {},
   "outputs": [
    {
     "name": "stdout",
     "output_type": "stream",
     "text": [
      "[-1.9289817200325727, -0.016145412881790687]\n"
     ]
    }
   ],
   "source": [
    "# print((rewards[0][0]))\n",
    "print((rewards[0][0][0]))\n",
    "# print((rewards[0][0][0][0]))"
   ]
  },
  {
   "cell_type": "code",
   "execution_count": 31,
   "metadata": {},
   "outputs": [
    {
     "ename": "IndexError",
     "evalue": "tuple index out of range",
     "output_type": "error",
     "traceback": [
      "\u001b[0;31m---------------------------------------------------------------------------\u001b[0m",
      "\u001b[0;31mIndexError\u001b[0m                                Traceback (most recent call last)",
      "\u001b[0;32m<ipython-input-31-08ab52ed3bd7>\u001b[0m in \u001b[0;36m<module>\u001b[0;34m\u001b[0m\n\u001b[1;32m      6\u001b[0m     \u001b[0mp1_list\u001b[0m\u001b[0;34m.\u001b[0m\u001b[0mappend\u001b[0m\u001b[0;34m(\u001b[0m\u001b[0mrewards\u001b[0m\u001b[0;34m[\u001b[0m\u001b[0mi\u001b[0m\u001b[0;34m]\u001b[0m\u001b[0;34m[\u001b[0m\u001b[0;36m0\u001b[0m\u001b[0;34m]\u001b[0m\u001b[0;34m[\u001b[0m\u001b[0;36m0\u001b[0m\u001b[0;34m]\u001b[0m\u001b[0;34m[\u001b[0m\u001b[0;36m0\u001b[0m\u001b[0;34m]\u001b[0m\u001b[0;34m[\u001b[0m\u001b[0;36m0\u001b[0m\u001b[0;34m]\u001b[0m\u001b[0;34m)\u001b[0m\u001b[0;34m\u001b[0m\u001b[0;34m\u001b[0m\u001b[0m\n\u001b[1;32m      7\u001b[0m     \u001b[0mp2_list\u001b[0m\u001b[0;34m.\u001b[0m\u001b[0mappend\u001b[0m\u001b[0;34m(\u001b[0m\u001b[0mrewards\u001b[0m\u001b[0;34m[\u001b[0m\u001b[0mi\u001b[0m\u001b[0;34m]\u001b[0m\u001b[0;34m[\u001b[0m\u001b[0;36m0\u001b[0m\u001b[0;34m]\u001b[0m\u001b[0;34m[\u001b[0m\u001b[0;36m0\u001b[0m\u001b[0;34m]\u001b[0m\u001b[0;34m[\u001b[0m\u001b[0;36m0\u001b[0m\u001b[0;34m]\u001b[0m\u001b[0;34m[\u001b[0m\u001b[0;36m1\u001b[0m\u001b[0;34m]\u001b[0m\u001b[0;34m)\u001b[0m\u001b[0;34m\u001b[0m\u001b[0;34m\u001b[0m\u001b[0m\n\u001b[0;32m----> 8\u001b[0;31m     \u001b[0mp3_list\u001b[0m\u001b[0;34m.\u001b[0m\u001b[0mappend\u001b[0m\u001b[0;34m(\u001b[0m\u001b[0mrewards\u001b[0m\u001b[0;34m[\u001b[0m\u001b[0mi\u001b[0m\u001b[0;34m]\u001b[0m\u001b[0;34m[\u001b[0m\u001b[0;36m0\u001b[0m\u001b[0;34m]\u001b[0m\u001b[0;34m[\u001b[0m\u001b[0;36m0\u001b[0m\u001b[0;34m]\u001b[0m\u001b[0;34m[\u001b[0m\u001b[0;36m0\u001b[0m\u001b[0;34m]\u001b[0m\u001b[0;34m[\u001b[0m\u001b[0;36m2\u001b[0m\u001b[0;34m]\u001b[0m\u001b[0;34m)\u001b[0m\u001b[0;34m\u001b[0m\u001b[0;34m\u001b[0m\u001b[0m\n\u001b[0m\u001b[1;32m      9\u001b[0m     \u001b[0mp4_list\u001b[0m\u001b[0;34m.\u001b[0m\u001b[0mappend\u001b[0m\u001b[0;34m(\u001b[0m\u001b[0mrewards\u001b[0m\u001b[0;34m[\u001b[0m\u001b[0mi\u001b[0m\u001b[0;34m]\u001b[0m\u001b[0;34m[\u001b[0m\u001b[0;36m0\u001b[0m\u001b[0;34m]\u001b[0m\u001b[0;34m[\u001b[0m\u001b[0;36m0\u001b[0m\u001b[0;34m]\u001b[0m\u001b[0;34m[\u001b[0m\u001b[0;36m0\u001b[0m\u001b[0;34m]\u001b[0m\u001b[0;34m[\u001b[0m\u001b[0;36m3\u001b[0m\u001b[0;34m]\u001b[0m\u001b[0;34m)\u001b[0m\u001b[0;34m\u001b[0m\u001b[0;34m\u001b[0m\u001b[0m\n",
      "\u001b[0;31mIndexError\u001b[0m: tuple index out of range"
     ]
    }
   ],
   "source": [
    "p1_list = []\n",
    "p2_list = []\n",
    "p3_list = []\n",
    "p4_list = []\n",
    "for i in range(4000):\n",
    "    p1_list.append(rewards[i][0][0][0][0])\n",
    "    p2_list.append(rewards[i][0][0][0][1])\n",
    "    p3_list.append(rewards[i][0][0][0][2])\n",
    "    p4_list.append(rewards[i][0][0][0][3])"
   ]
  },
  {
   "cell_type": "code",
   "execution_count": null,
   "metadata": {},
   "outputs": [
    {
     "name": "stdout",
     "output_type": "stream",
     "text": [
      "-1.611695637109297\n",
      "1.08925\n",
      "0.5224456371092968\n",
      "1.0145\n"
     ]
    }
   ],
   "source": [
    "print( np.average(p1_list) )\n",
    "print( np.average(p2_list) )\n",
    "print( np.average(p3_list) )\n",
    "print( np.average(p4_list) )"
   ]
  },
  {
   "cell_type": "code",
   "execution_count": null,
   "metadata": {},
   "outputs": [
    {
     "name": "stdout",
     "output_type": "stream",
     "text": [
      "0.6651706117069269\n",
      "0.15304901175767194\n",
      "0.6403831706756052\n",
      "0.2683839367398876\n"
     ]
    }
   ],
   "source": [
    "print( np.std(p1_list) )\n",
    "print( np.std(p2_list) )\n",
    "print( np.std(p3_list) )\n",
    "print( np.std(p4_list) )"
   ]
  }
 ],
 "metadata": {
  "interpreter": {
   "hash": "1ea1916ba77a8ccce6e1d32e626899833938a2712c86908bdef9d7973b0a757c"
  },
  "kernelspec": {
   "display_name": "Python 3.6.10 ('tensorflow')",
   "language": "python",
   "name": "python3"
  },
  "language_info": {
   "codemirror_mode": {
    "name": "ipython",
    "version": 3
   },
   "file_extension": ".py",
   "mimetype": "text/x-python",
   "name": "python",
   "nbconvert_exporter": "python",
   "pygments_lexer": "ipython3",
   "version": "3.9.7"
  },
  "orig_nbformat": 4
 },
 "nbformat": 4,
 "nbformat_minor": 2
}
